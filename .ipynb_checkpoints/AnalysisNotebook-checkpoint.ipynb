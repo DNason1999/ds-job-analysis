{
 "cells": [
  {
   "cell_type": "code",
   "execution_count": 116,
   "metadata": {},
   "outputs": [],
   "source": [
    "import pandas as pd"
   ]
  },
  {
   "cell_type": "code",
   "execution_count": 119,
   "metadata": {},
   "outputs": [
    {
     "ename": "NameError",
     "evalue": "name 'df_all' is not defined",
     "output_type": "error",
     "traceback": [
      "\u001b[1;31m---------------------------------------------------------------------------\u001b[0m",
      "\u001b[1;31mNameError\u001b[0m                                 Traceback (most recent call last)",
      "\u001b[1;32m<ipython-input-119-6f5d3644c7b4>\u001b[0m in \u001b[0;36m<module>\u001b[1;34m\u001b[0m\n\u001b[1;32m----> 1\u001b[1;33m \u001b[0mdf_all\u001b[0m \u001b[1;33m=\u001b[0m \u001b[0mpd\u001b[0m\u001b[1;33m.\u001b[0m\u001b[0mread_csv\u001b[0m\u001b[1;33m(\u001b[0m\u001b[1;34m\"48648_88304_bundle_archive/alldata.csv\"\u001b[0m\u001b[1;33m)\u001b[0m\u001b[1;33m.\u001b[0m\u001b[0mloc\u001b[0m\u001b[1;33m[\u001b[0m\u001b[0mdf_all\u001b[0m\u001b[1;33m[\u001b[0m\u001b[1;34m'location'\u001b[0m\u001b[1;33m]\u001b[0m\u001b[1;33m.\u001b[0m\u001b[0mnotnull\u001b[0m\u001b[1;33m(\u001b[0m\u001b[1;33m)\u001b[0m\u001b[1;33m]\u001b[0m\u001b[1;33m\u001b[0m\u001b[1;33m\u001b[0m\u001b[0m\n\u001b[0m",
      "\u001b[1;31mNameError\u001b[0m: name 'df_all' is not defined"
     ]
    }
   ],
   "source": [
    "df_all = pd.read_csv(\"48648_88304_bundle_archive/alldata.csv\").loc[df_all['location'].notnull()]"
   ]
  },
  {
   "cell_type": "code",
   "execution_count": 118,
   "metadata": {},
   "outputs": [
    {
     "ename": "NameError",
     "evalue": "name 'df_all' is not defined",
     "output_type": "error",
     "traceback": [
      "\u001b[1;31m---------------------------------------------------------------------------\u001b[0m",
      "\u001b[1;31mNameError\u001b[0m                                 Traceback (most recent call last)",
      "\u001b[1;32m<ipython-input-118-8744af1e6cc3>\u001b[0m in \u001b[0;36m<module>\u001b[1;34m\u001b[0m\n\u001b[1;32m----> 1\u001b[1;33m \u001b[0mdf_all\u001b[0m\u001b[1;33m\u001b[0m\u001b[1;33m\u001b[0m\u001b[0m\n\u001b[0m",
      "\u001b[1;31mNameError\u001b[0m: name 'df_all' is not defined"
     ]
    }
   ],
   "source": [
    "df_all"
   ]
  },
  {
   "cell_type": "code",
   "execution_count": 33,
   "metadata": {},
   "outputs": [],
   "source": [
    "df_all['location'] = [x.strip().split(',', maxsplit=1)[0] for x in df_all['location']]"
   ]
  },
  {
   "cell_type": "code",
   "execution_count": 90,
   "metadata": {},
   "outputs": [
    {
     "data": {
      "text/plain": [
       "New York         848\n",
       "Seattle          777\n",
       "Cambridge        694\n",
       "Boston           629\n",
       "San Francisco    564\n",
       "Chicago          471\n",
       "San Diego        412\n",
       "Washington       340\n",
       "Mountain View    277\n",
       "Atlanta          269\n",
       "Name: location, dtype: int64"
      ]
     },
     "execution_count": 90,
     "metadata": {},
     "output_type": "execute_result"
    }
   ],
   "source": [
    "df_all['location'].value_counts()[:10]"
   ]
  },
  {
   "cell_type": "code",
   "execution_count": 47,
   "metadata": {},
   "outputs": [],
   "source": [
    "df_all_location_lat_lon = {\n",
    "    'New York':[40.71, -74],\n",
    "    'Seattle':[47.61, -122.33],\n",
    "    'Cambridge':[42.37, -71.11],\n",
    "    'Boston':[42.36, -71.06],\n",
    "    'San Francisco':[37.77, -122.42],\n",
    "    'Chicago':[41.88, -87.63],\n",
    "    'San Diego':[32.72, -117.16],\n",
    "    'Washington':[38.91, -77.04],\n",
    "    'Mountain View':[37.39, -122.09],\n",
    "    'Atlanta':[33.75, -84.39]\n",
    "}"
   ]
  },
  {
   "cell_type": "code",
   "execution_count": 38,
   "metadata": {},
   "outputs": [],
   "source": [
    "df_ny = df_all.loc[df_all['location'] == 'New York']"
   ]
  },
  {
   "cell_type": "code",
   "execution_count": 56,
   "metadata": {},
   "outputs": [],
   "source": [
    "df_ny_1 = df_ny.loc[[x in df_ny['position'].value_counts().keys().tolist()[:7] for x in df_ny['position']]]"
   ]
  },
  {
   "cell_type": "code",
   "execution_count": 59,
   "metadata": {},
   "outputs": [
    {
     "name": "stdout",
     "output_type": "stream",
     "text": [
      "Data Scientist               93\n",
      "Research Analyst             21\n",
      "Senior Data Scientist        17\n",
      "Data Engineer                12\n",
      "Lead Data Scientist          11\n",
      "Quantitative Analyst          9\n",
      "Machine Learning Engineer     7\n",
      "Name: position, dtype: int64\n"
     ]
    },
    {
     "data": {
      "text/plain": [
       "170"
      ]
     },
     "execution_count": 59,
     "metadata": {},
     "output_type": "execute_result"
    }
   ],
   "source": [
    "print(df_ny['position'].value_counts()[:7])\n",
    "\n",
    "sum(df_ny['position'].value_counts()[:7])"
   ]
  },
  {
   "cell_type": "code",
   "execution_count": 58,
   "metadata": {},
   "outputs": [
    {
     "data": {
      "text/html": [
       "<div>\n",
       "<style scoped>\n",
       "    .dataframe tbody tr th:only-of-type {\n",
       "        vertical-align: middle;\n",
       "    }\n",
       "\n",
       "    .dataframe tbody tr th {\n",
       "        vertical-align: top;\n",
       "    }\n",
       "\n",
       "    .dataframe thead th {\n",
       "        text-align: right;\n",
       "    }\n",
       "</style>\n",
       "<table border=\"1\" class=\"dataframe\">\n",
       "  <thead>\n",
       "    <tr style=\"text-align: right;\">\n",
       "      <th></th>\n",
       "      <th>position</th>\n",
       "      <th>company</th>\n",
       "      <th>description</th>\n",
       "      <th>reviews</th>\n",
       "      <th>location</th>\n",
       "    </tr>\n",
       "  </thead>\n",
       "  <tbody>\n",
       "    <tr>\n",
       "      <th>3413</th>\n",
       "      <td>Data Scientist</td>\n",
       "      <td>Blackboard Insurance</td>\n",
       "      <td>We’re looking for a rogue Data Scientist who w...</td>\n",
       "      <td>NaN</td>\n",
       "      <td>New York</td>\n",
       "    </tr>\n",
       "    <tr>\n",
       "      <th>3424</th>\n",
       "      <td>Data Scientist</td>\n",
       "      <td>J.Crew Group, Inc.</td>\n",
       "      <td>Title: Data Scientist\\nReports to: VP – Analyt...</td>\n",
       "      <td>760.0</td>\n",
       "      <td>New York</td>\n",
       "    </tr>\n",
       "    <tr>\n",
       "      <th>3431</th>\n",
       "      <td>Data Scientist</td>\n",
       "      <td>Sweeten</td>\n",
       "      <td>Join Sweeten, a fast growing, award-winning te...</td>\n",
       "      <td>NaN</td>\n",
       "      <td>New York</td>\n",
       "    </tr>\n",
       "    <tr>\n",
       "      <th>3432</th>\n",
       "      <td>Data Scientist</td>\n",
       "      <td>Edison Software, Inc.</td>\n",
       "      <td>The Role\\nMachine-driven investment strategies...</td>\n",
       "      <td>NaN</td>\n",
       "      <td>New York</td>\n",
       "    </tr>\n",
       "    <tr>\n",
       "      <th>3435</th>\n",
       "      <td>Data Scientist</td>\n",
       "      <td>Organic</td>\n",
       "      <td>We’re looking for a data scientist with unlimi...</td>\n",
       "      <td>32.0</td>\n",
       "      <td>New York</td>\n",
       "    </tr>\n",
       "    <tr>\n",
       "      <th>...</th>\n",
       "      <td>...</td>\n",
       "      <td>...</td>\n",
       "      <td>...</td>\n",
       "      <td>...</td>\n",
       "      <td>...</td>\n",
       "    </tr>\n",
       "    <tr>\n",
       "      <th>4385</th>\n",
       "      <td>Data Scientist</td>\n",
       "      <td>SpinCar</td>\n",
       "      <td>SpinCar , a leading provider of 360-degree ima...</td>\n",
       "      <td>NaN</td>\n",
       "      <td>New York</td>\n",
       "    </tr>\n",
       "    <tr>\n",
       "      <th>4386</th>\n",
       "      <td>Data Scientist</td>\n",
       "      <td>MetroPlus Health Plan</td>\n",
       "      <td>Marketing Statement\\nMetroPlus Health Plan pro...</td>\n",
       "      <td>96.0</td>\n",
       "      <td>New York</td>\n",
       "    </tr>\n",
       "    <tr>\n",
       "      <th>4388</th>\n",
       "      <td>Data Scientist</td>\n",
       "      <td>Amazon.com</td>\n",
       "      <td>Job Description\\nAt Amazon we continually look...</td>\n",
       "      <td>25883.0</td>\n",
       "      <td>New York</td>\n",
       "    </tr>\n",
       "    <tr>\n",
       "      <th>4389</th>\n",
       "      <td>Data Scientist</td>\n",
       "      <td>SG Analytics</td>\n",
       "      <td>Job SummaryRole: Senior Data ScientistLocation...</td>\n",
       "      <td>15.0</td>\n",
       "      <td>New York</td>\n",
       "    </tr>\n",
       "    <tr>\n",
       "      <th>4390</th>\n",
       "      <td>Data Scientist</td>\n",
       "      <td>Scienaptic Systems Inc</td>\n",
       "      <td>Scienaptic (www.scienaptic.com) is a new age a...</td>\n",
       "      <td>NaN</td>\n",
       "      <td>New York</td>\n",
       "    </tr>\n",
       "  </tbody>\n",
       "</table>\n",
       "<p>170 rows × 5 columns</p>\n",
       "</div>"
      ],
      "text/plain": [
       "            position                 company  \\\n",
       "3413  Data Scientist    Blackboard Insurance   \n",
       "3424  Data Scientist      J.Crew Group, Inc.   \n",
       "3431  Data Scientist                 Sweeten   \n",
       "3432  Data Scientist   Edison Software, Inc.   \n",
       "3435  Data Scientist                 Organic   \n",
       "...              ...                     ...   \n",
       "4385  Data Scientist                 SpinCar   \n",
       "4386  Data Scientist   MetroPlus Health Plan   \n",
       "4388  Data Scientist              Amazon.com   \n",
       "4389  Data Scientist            SG Analytics   \n",
       "4390  Data Scientist  Scienaptic Systems Inc   \n",
       "\n",
       "                                            description  reviews  location  \n",
       "3413  We’re looking for a rogue Data Scientist who w...      NaN  New York  \n",
       "3424  Title: Data Scientist\\nReports to: VP – Analyt...    760.0  New York  \n",
       "3431  Join Sweeten, a fast growing, award-winning te...      NaN  New York  \n",
       "3432  The Role\\nMachine-driven investment strategies...      NaN  New York  \n",
       "3435  We’re looking for a data scientist with unlimi...     32.0  New York  \n",
       "...                                                 ...      ...       ...  \n",
       "4385  SpinCar , a leading provider of 360-degree ima...      NaN  New York  \n",
       "4386  Marketing Statement\\nMetroPlus Health Plan pro...     96.0  New York  \n",
       "4388  Job Description\\nAt Amazon we continually look...  25883.0  New York  \n",
       "4389  Job SummaryRole: Senior Data ScientistLocation...     15.0  New York  \n",
       "4390  Scienaptic (www.scienaptic.com) is a new age a...      NaN  New York  \n",
       "\n",
       "[170 rows x 5 columns]"
      ]
     },
     "execution_count": 58,
     "metadata": {},
     "output_type": "execute_result"
    }
   ],
   "source": [
    "df_ny_1"
   ]
  },
  {
   "cell_type": "code",
   "execution_count": 1,
   "metadata": {},
   "outputs": [],
   "source": [
    "import matplotlib.pyplot as plt\n",
    "import numpy as np\n",
    "from mpl_toolkits.basemap import Basemap"
   ]
  },
  {
   "cell_type": "code",
   "execution_count": 98,
   "metadata": {},
   "outputs": [],
   "source": [
    "df_all_location_text_lat_lon = {\n",
    "    'New York':[39.71, -73],\n",
    "    'Seattle':[48.61, -124.33],\n",
    "    'Cambridge':[45.37, -71.11],\n",
    "    'Boston':[43.36, -72.06],\n",
    "    'San Francisco':[38.77, -123.42],\n",
    "    'Chicago':[43, -89.63],\n",
    "    'San Diego':[32.72, -117.16],\n",
    "    'Washington':[37.91, -76.04],\n",
    "    'Mountain View':[35.39, -121.09],\n",
    "    'Atlanta':[34.75, -85.39]\n",
    "}"
   ]
  },
  {
   "cell_type": "code",
   "execution_count": 113,
   "metadata": {},
   "outputs": [
    {
     "ename": "NameError",
     "evalue": "name 'df_all' is not defined",
     "output_type": "error",
     "traceback": [
      "\u001b[1;31m---------------------------------------------------------------------------\u001b[0m",
      "\u001b[1;31mNameError\u001b[0m                                 Traceback (most recent call last)",
      "\u001b[1;32m<ipython-input-113-3e855ced2c42>\u001b[0m in \u001b[0;36m<module>\u001b[1;34m\u001b[0m\n\u001b[1;32m----> 1\u001b[1;33m \u001b[0mdf_all\u001b[0m\u001b[1;33m[\u001b[0m\u001b[1;34m'location'\u001b[0m\u001b[1;33m]\u001b[0m\u001b[1;33m.\u001b[0m\u001b[0mvalue_counts\u001b[0m\u001b[1;33m(\u001b[0m\u001b[1;33m)\u001b[0m\u001b[1;33m[\u001b[0m\u001b[1;33m:\u001b[0m\u001b[1;36m10\u001b[0m\u001b[1;33m]\u001b[0m\u001b[1;33m\u001b[0m\u001b[1;33m\u001b[0m\u001b[0m\n\u001b[0m",
      "\u001b[1;31mNameError\u001b[0m: name 'df_all' is not defined"
     ]
    }
   ],
   "source": [
    "df_all['location'].value_counts()[:10]"
   ]
  },
  {
   "cell_type": "code",
   "execution_count": 112,
   "metadata": {},
   "outputs": [
    {
     "data": {
      "image/png": "[encoded data removed]",
      "text/plain": [
       "<Figure size 576x576 with 1 Axes>"
      ]
     },
     "metadata": {},
     "output_type": "display_data"
    }
   ],
   "source": [
    "fig = plt.figure(figsize=(8, 8))\n",
    "m = Basemap(projection='lcc', resolution='c',\n",
    "            width=8E6, height=5E6, \n",
    "            lat_0=40, lon_0=-100,)\n",
    "#m.etopo(scale=0.5, alpha=0.5)\n",
    "m.drawcoastlines(color='lightblue', linewidth=1.5)\n",
    "\n",
    "# Map (long, lat) to (x, y) for plotting\n",
    "for name, loc in df_all_location_lat_lon.items():\n",
    "    t_loc = m(loc[1], loc[0])\n",
    "    \n",
    "    text_loc_ll = df_all_location_text_lat_lon[name]\n",
    "    text_loc = m(text_loc_ll[1], text_loc_ll[0])\n",
    "    plt.plot(t_loc[0], t_loc[1], 'ok', markersize=5)\n",
    "    plt.text(text_loc[0], text_loc[1], name, fontsize=12);"
   ]
  },
  {
   "cell_type": "code",
   "execution_count": null,
   "metadata": {},
   "outputs": [],
   "source": []
  },
  {
   "cell_type": "code",
   "execution_count": null,
   "metadata": {},
   "outputs": [],
   "source": []
  }
 ],
 "metadata": {
  "kernelspec": {
   "display_name": "Python 3",
   "language": "python",
   "name": "python3"
  },
  "language_info": {
   "codemirror_mode": {
    "name": "ipython",
    "version": 3
   },
   "file_extension": ".py",
   "mimetype": "text/x-python",
   "name": "python",
   "nbconvert_exporter": "python",
   "pygments_lexer": "ipython3",
   "version": "3.7.4"
  }
 },
 "nbformat": 4,
 "nbformat_minor": 4
}
