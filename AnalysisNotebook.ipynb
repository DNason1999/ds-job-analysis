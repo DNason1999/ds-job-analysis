{
 "cells": [
  {
   "cell_type": "code",
   "execution_count": 1,
   "metadata": {},
   "outputs": [],
   "source": [
    "import pandas as pd"
   ]
  },
  {
   "cell_type": "code",
   "execution_count": 3,
   "metadata": {},
   "outputs": [],
   "source": [
    "df_all = pd.read_csv(\"48648_88304_bundle_archive/alldata.csv\")\n",
    "df_all = df_all.loc[df_all['location'].notnull()]"
   ]
  },
  {
   "cell_type": "code",
   "execution_count": 4,
   "metadata": {},
   "outputs": [
    {
     "data": {
      "text/html": [
       "<div>\n",
       "<style scoped>\n",
       "    .dataframe tbody tr th:only-of-type {\n",
       "        vertical-align: middle;\n",
       "    }\n",
       "\n",
       "    .dataframe tbody tr th {\n",
       "        vertical-align: top;\n",
       "    }\n",
       "\n",
       "    .dataframe thead th {\n",
       "        text-align: right;\n",
       "    }\n",
       "</style>\n",
       "<table border=\"1\" class=\"dataframe\">\n",
       "  <thead>\n",
       "    <tr style=\"text-align: right;\">\n",
       "      <th></th>\n",
       "      <th>position</th>\n",
       "      <th>company</th>\n",
       "      <th>description</th>\n",
       "      <th>reviews</th>\n",
       "      <th>location</th>\n",
       "    </tr>\n",
       "  </thead>\n",
       "  <tbody>\n",
       "    <tr>\n",
       "      <th>0</th>\n",
       "      <td>Development Director</td>\n",
       "      <td>ALS TDI</td>\n",
       "      <td>Development Director\\nALS Therapy Development ...</td>\n",
       "      <td>NaN</td>\n",
       "      <td>Atlanta, GA 30301</td>\n",
       "    </tr>\n",
       "    <tr>\n",
       "      <th>1</th>\n",
       "      <td>An Ostentatiously-Excitable Principal Research...</td>\n",
       "      <td>The Hexagon Lavish</td>\n",
       "      <td>Job Description\\n\\n\"The road that leads to acc...</td>\n",
       "      <td>NaN</td>\n",
       "      <td>Atlanta, GA</td>\n",
       "    </tr>\n",
       "    <tr>\n",
       "      <th>2</th>\n",
       "      <td>Data Scientist</td>\n",
       "      <td>Xpert Staffing</td>\n",
       "      <td>Growing company located in the Atlanta, GA are...</td>\n",
       "      <td>NaN</td>\n",
       "      <td>Atlanta, GA</td>\n",
       "    </tr>\n",
       "    <tr>\n",
       "      <th>3</th>\n",
       "      <td>Data Analyst</td>\n",
       "      <td>Operation HOPE</td>\n",
       "      <td>DEPARTMENT: Program OperationsPOSITION LOCATIO...</td>\n",
       "      <td>44.0</td>\n",
       "      <td>Atlanta, GA 30303</td>\n",
       "    </tr>\n",
       "    <tr>\n",
       "      <th>4</th>\n",
       "      <td>Assistant Professor -TT - Signal Processing &amp; ...</td>\n",
       "      <td>Emory University</td>\n",
       "      <td>DESCRIPTION\\nThe Emory University Department o...</td>\n",
       "      <td>550.0</td>\n",
       "      <td>Atlanta, GA</td>\n",
       "    </tr>\n",
       "    <tr>\n",
       "      <th>...</th>\n",
       "      <td>...</td>\n",
       "      <td>...</td>\n",
       "      <td>...</td>\n",
       "      <td>...</td>\n",
       "      <td>...</td>\n",
       "    </tr>\n",
       "    <tr>\n",
       "      <th>6959</th>\n",
       "      <td>Data Developer / Machine Learning Analyst</td>\n",
       "      <td>NetApp</td>\n",
       "      <td>Are you data-driven? We at NetApp believe in t...</td>\n",
       "      <td>574.0</td>\n",
       "      <td>Sunnyvale, CA</td>\n",
       "    </tr>\n",
       "    <tr>\n",
       "      <th>6960</th>\n",
       "      <td>Scientist I</td>\n",
       "      <td>Pharmacyclics, an Abbvie Company</td>\n",
       "      <td>Pharmacyclics is committed to the development ...</td>\n",
       "      <td>26.0</td>\n",
       "      <td>Sunnyvale, CA</td>\n",
       "    </tr>\n",
       "    <tr>\n",
       "      <th>6961</th>\n",
       "      <td>Intern Scientist</td>\n",
       "      <td>Oath Inc</td>\n",
       "      <td>Oath, a subsidiary of Verizon, is a values-led...</td>\n",
       "      <td>5.0</td>\n",
       "      <td>Sunnyvale, CA</td>\n",
       "    </tr>\n",
       "    <tr>\n",
       "      <th>6962</th>\n",
       "      <td>Senior Data &amp; Applied Scientist</td>\n",
       "      <td>Microsoft</td>\n",
       "      <td>We are the Bing Core Relevance team responsibl...</td>\n",
       "      <td>4618.0</td>\n",
       "      <td>Sunnyvale, CA</td>\n",
       "    </tr>\n",
       "    <tr>\n",
       "      <th>6963</th>\n",
       "      <td>Principal Data Scientist, Deep Learning</td>\n",
       "      <td>Comcast</td>\n",
       "      <td>Comcast’s Technology &amp;amp; Product organizatio...</td>\n",
       "      <td>11610.0</td>\n",
       "      <td>Sunnyvale, CA 94089</td>\n",
       "    </tr>\n",
       "  </tbody>\n",
       "</table>\n",
       "<p>6953 rows × 5 columns</p>\n",
       "</div>"
      ],
      "text/plain": [
       "                                               position  \\\n",
       "0                                  Development Director   \n",
       "1     An Ostentatiously-Excitable Principal Research...   \n",
       "2                                        Data Scientist   \n",
       "3                                          Data Analyst   \n",
       "4     Assistant Professor -TT - Signal Processing & ...   \n",
       "...                                                 ...   \n",
       "6959          Data Developer / Machine Learning Analyst   \n",
       "6960                                        Scientist I   \n",
       "6961                                   Intern Scientist   \n",
       "6962                    Senior Data & Applied Scientist   \n",
       "6963            Principal Data Scientist, Deep Learning   \n",
       "\n",
       "                               company  \\\n",
       "0                              ALS TDI   \n",
       "1                   The Hexagon Lavish   \n",
       "2                       Xpert Staffing   \n",
       "3                       Operation HOPE   \n",
       "4                     Emory University   \n",
       "...                                ...   \n",
       "6959                            NetApp   \n",
       "6960  Pharmacyclics, an Abbvie Company   \n",
       "6961                          Oath Inc   \n",
       "6962                         Microsoft   \n",
       "6963                           Comcast   \n",
       "\n",
       "                                            description  reviews  \\\n",
       "0     Development Director\\nALS Therapy Development ...      NaN   \n",
       "1     Job Description\\n\\n\"The road that leads to acc...      NaN   \n",
       "2     Growing company located in the Atlanta, GA are...      NaN   \n",
       "3     DEPARTMENT: Program OperationsPOSITION LOCATIO...     44.0   \n",
       "4     DESCRIPTION\\nThe Emory University Department o...    550.0   \n",
       "...                                                 ...      ...   \n",
       "6959  Are you data-driven? We at NetApp believe in t...    574.0   \n",
       "6960  Pharmacyclics is committed to the development ...     26.0   \n",
       "6961  Oath, a subsidiary of Verizon, is a values-led...      5.0   \n",
       "6962  We are the Bing Core Relevance team responsibl...   4618.0   \n",
       "6963  Comcast’s Technology &amp; Product organizatio...  11610.0   \n",
       "\n",
       "                 location  \n",
       "0      Atlanta, GA 30301   \n",
       "1             Atlanta, GA  \n",
       "2             Atlanta, GA  \n",
       "3      Atlanta, GA 30303   \n",
       "4             Atlanta, GA  \n",
       "...                   ...  \n",
       "6959        Sunnyvale, CA  \n",
       "6960        Sunnyvale, CA  \n",
       "6961        Sunnyvale, CA  \n",
       "6962        Sunnyvale, CA  \n",
       "6963  Sunnyvale, CA 94089  \n",
       "\n",
       "[6953 rows x 5 columns]"
      ]
     },
     "execution_count": 4,
     "metadata": {},
     "output_type": "execute_result"
    }
   ],
   "source": [
    "df_all"
   ]
  },
  {
   "cell_type": "code",
   "execution_count": 5,
   "metadata": {},
   "outputs": [],
   "source": [
    "df_all['location'] = [x.strip().split(',', maxsplit=1)[0] for x in df_all['location']]"
   ]
  },
  {
   "cell_type": "code",
   "execution_count": 6,
   "metadata": {},
   "outputs": [
    {
     "data": {
      "text/plain": [
       "New York         848\n",
       "Seattle          777\n",
       "Cambridge        694\n",
       "Boston           629\n",
       "San Francisco    564\n",
       "Chicago          471\n",
       "San Diego        412\n",
       "Washington       340\n",
       "Mountain View    277\n",
       "Atlanta          269\n",
       "Name: location, dtype: int64"
      ]
     },
     "execution_count": 6,
     "metadata": {},
     "output_type": "execute_result"
    }
   ],
   "source": [
    "df_all['location'].value_counts()[:10]"
   ]
  },
  {
   "cell_type": "code",
   "execution_count": 7,
   "metadata": {},
   "outputs": [],
   "source": [
    "df_all_location_lat_lon = {\n",
    "    'New York':[40.71, -74],\n",
    "    'Seattle':[47.61, -122.33],\n",
    "    'Cambridge':[42.37, -71.11],\n",
    "    'Boston':[42.36, -71.06],\n",
    "    'San Francisco':[37.77, -122.42],\n",
    "    'Chicago':[41.88, -87.63],\n",
    "    'San Diego':[32.72, -117.16],\n",
    "    'Washington':[38.91, -77.04],\n",
    "    'Mountain View':[37.39, -122.09],\n",
    "    'Atlanta':[33.75, -84.39]\n",
    "}"
   ]
  },
  {
   "cell_type": "code",
   "execution_count": 8,
   "metadata": {},
   "outputs": [],
   "source": [
    "df_ny = df_all.loc[df_all['location'] == 'New York']"
   ]
  },
  {
   "cell_type": "code",
   "execution_count": 9,
   "metadata": {},
   "outputs": [],
   "source": [
    "df_ny_1 = df_ny.loc[[x in df_ny['position'].value_counts().keys().tolist()[:7] for x in df_ny['position']]]"
   ]
  },
  {
   "cell_type": "code",
   "execution_count": 10,
   "metadata": {},
   "outputs": [
    {
     "name": "stdout",
     "output_type": "stream",
     "text": [
      "Data Scientist               93\n",
      "Research Analyst             21\n",
      "Senior Data Scientist        17\n",
      "Data Engineer                12\n",
      "Lead Data Scientist          11\n",
      "Quantitative Analyst          9\n",
      "Machine Learning Engineer     7\n",
      "Name: position, dtype: int64\n"
     ]
    },
    {
     "data": {
      "text/plain": [
       "170"
      ]
     },
     "execution_count": 10,
     "metadata": {},
     "output_type": "execute_result"
    }
   ],
   "source": [
    "print(df_ny['position'].value_counts()[:7])\n",
    "\n",
    "sum(df_ny['position'].value_counts()[:7])"
   ]
  },
  {
   "cell_type": "code",
   "execution_count": 11,
   "metadata": {},
   "outputs": [
    {
     "data": {
      "text/html": [
       "<div>\n",
       "<style scoped>\n",
       "    .dataframe tbody tr th:only-of-type {\n",
       "        vertical-align: middle;\n",
       "    }\n",
       "\n",
       "    .dataframe tbody tr th {\n",
       "        vertical-align: top;\n",
       "    }\n",
       "\n",
       "    .dataframe thead th {\n",
       "        text-align: right;\n",
       "    }\n",
       "</style>\n",
       "<table border=\"1\" class=\"dataframe\">\n",
       "  <thead>\n",
       "    <tr style=\"text-align: right;\">\n",
       "      <th></th>\n",
       "      <th>position</th>\n",
       "      <th>company</th>\n",
       "      <th>description</th>\n",
       "      <th>reviews</th>\n",
       "      <th>location</th>\n",
       "    </tr>\n",
       "  </thead>\n",
       "  <tbody>\n",
       "    <tr>\n",
       "      <th>3413</th>\n",
       "      <td>Data Scientist</td>\n",
       "      <td>Blackboard Insurance</td>\n",
       "      <td>We’re looking for a rogue Data Scientist who w...</td>\n",
       "      <td>NaN</td>\n",
       "      <td>New York</td>\n",
       "    </tr>\n",
       "    <tr>\n",
       "      <th>3424</th>\n",
       "      <td>Data Scientist</td>\n",
       "      <td>J.Crew Group, Inc.</td>\n",
       "      <td>Title: Data Scientist\\nReports to: VP – Analyt...</td>\n",
       "      <td>760.0</td>\n",
       "      <td>New York</td>\n",
       "    </tr>\n",
       "    <tr>\n",
       "      <th>3431</th>\n",
       "      <td>Data Scientist</td>\n",
       "      <td>Sweeten</td>\n",
       "      <td>Join Sweeten, a fast growing, award-winning te...</td>\n",
       "      <td>NaN</td>\n",
       "      <td>New York</td>\n",
       "    </tr>\n",
       "    <tr>\n",
       "      <th>3432</th>\n",
       "      <td>Data Scientist</td>\n",
       "      <td>Edison Software, Inc.</td>\n",
       "      <td>The Role\\nMachine-driven investment strategies...</td>\n",
       "      <td>NaN</td>\n",
       "      <td>New York</td>\n",
       "    </tr>\n",
       "    <tr>\n",
       "      <th>3435</th>\n",
       "      <td>Data Scientist</td>\n",
       "      <td>Organic</td>\n",
       "      <td>We’re looking for a data scientist with unlimi...</td>\n",
       "      <td>32.0</td>\n",
       "      <td>New York</td>\n",
       "    </tr>\n",
       "    <tr>\n",
       "      <th>...</th>\n",
       "      <td>...</td>\n",
       "      <td>...</td>\n",
       "      <td>...</td>\n",
       "      <td>...</td>\n",
       "      <td>...</td>\n",
       "    </tr>\n",
       "    <tr>\n",
       "      <th>4385</th>\n",
       "      <td>Data Scientist</td>\n",
       "      <td>SpinCar</td>\n",
       "      <td>SpinCar , a leading provider of 360-degree ima...</td>\n",
       "      <td>NaN</td>\n",
       "      <td>New York</td>\n",
       "    </tr>\n",
       "    <tr>\n",
       "      <th>4386</th>\n",
       "      <td>Data Scientist</td>\n",
       "      <td>MetroPlus Health Plan</td>\n",
       "      <td>Marketing Statement\\nMetroPlus Health Plan pro...</td>\n",
       "      <td>96.0</td>\n",
       "      <td>New York</td>\n",
       "    </tr>\n",
       "    <tr>\n",
       "      <th>4388</th>\n",
       "      <td>Data Scientist</td>\n",
       "      <td>Amazon.com</td>\n",
       "      <td>Job Description\\nAt Amazon we continually look...</td>\n",
       "      <td>25883.0</td>\n",
       "      <td>New York</td>\n",
       "    </tr>\n",
       "    <tr>\n",
       "      <th>4389</th>\n",
       "      <td>Data Scientist</td>\n",
       "      <td>SG Analytics</td>\n",
       "      <td>Job SummaryRole: Senior Data ScientistLocation...</td>\n",
       "      <td>15.0</td>\n",
       "      <td>New York</td>\n",
       "    </tr>\n",
       "    <tr>\n",
       "      <th>4390</th>\n",
       "      <td>Data Scientist</td>\n",
       "      <td>Scienaptic Systems Inc</td>\n",
       "      <td>Scienaptic (www.scienaptic.com) is a new age a...</td>\n",
       "      <td>NaN</td>\n",
       "      <td>New York</td>\n",
       "    </tr>\n",
       "  </tbody>\n",
       "</table>\n",
       "<p>170 rows × 5 columns</p>\n",
       "</div>"
      ],
      "text/plain": [
       "            position                 company  \\\n",
       "3413  Data Scientist    Blackboard Insurance   \n",
       "3424  Data Scientist      J.Crew Group, Inc.   \n",
       "3431  Data Scientist                 Sweeten   \n",
       "3432  Data Scientist   Edison Software, Inc.   \n",
       "3435  Data Scientist                 Organic   \n",
       "...              ...                     ...   \n",
       "4385  Data Scientist                 SpinCar   \n",
       "4386  Data Scientist   MetroPlus Health Plan   \n",
       "4388  Data Scientist              Amazon.com   \n",
       "4389  Data Scientist            SG Analytics   \n",
       "4390  Data Scientist  Scienaptic Systems Inc   \n",
       "\n",
       "                                            description  reviews  location  \n",
       "3413  We’re looking for a rogue Data Scientist who w...      NaN  New York  \n",
       "3424  Title: Data Scientist\\nReports to: VP – Analyt...    760.0  New York  \n",
       "3431  Join Sweeten, a fast growing, award-winning te...      NaN  New York  \n",
       "3432  The Role\\nMachine-driven investment strategies...      NaN  New York  \n",
       "3435  We’re looking for a data scientist with unlimi...     32.0  New York  \n",
       "...                                                 ...      ...       ...  \n",
       "4385  SpinCar , a leading provider of 360-degree ima...      NaN  New York  \n",
       "4386  Marketing Statement\\nMetroPlus Health Plan pro...     96.0  New York  \n",
       "4388  Job Description\\nAt Amazon we continually look...  25883.0  New York  \n",
       "4389  Job SummaryRole: Senior Data ScientistLocation...     15.0  New York  \n",
       "4390  Scienaptic (www.scienaptic.com) is a new age a...      NaN  New York  \n",
       "\n",
       "[170 rows x 5 columns]"
      ]
     },
     "execution_count": 11,
     "metadata": {},
     "output_type": "execute_result"
    }
   ],
   "source": [
    "df_ny_1"
   ]
  },
  {
   "cell_type": "code",
   "execution_count": 12,
   "metadata": {},
   "outputs": [],
   "source": [
    "import matplotlib.pyplot as plt\n",
    "import numpy as np\n",
    "from mpl_toolkits.basemap import Basemap"
   ]
  },
  {
   "cell_type": "code",
   "execution_count": 13,
   "metadata": {},
   "outputs": [],
   "source": [
    "df_all_location_text_lat_lon = {\n",
    "    'New York':[39.71, -73],\n",
    "    'Seattle':[48.61, -124.33],\n",
    "    'Cambridge':[45.37, -71.11],\n",
    "    'Boston':[43.36, -72.06],\n",
    "    'San Francisco':[38.77, -123.42],\n",
    "    'Chicago':[43, -89.63],\n",
    "    'San Diego':[32.72, -117.16],\n",
    "    'Washington':[37.91, -76.04],\n",
    "    'Mountain View':[35.39, -121.09],\n",
    "    'Atlanta':[34.75, -85.39]\n",
    "}"
   ]
  },
  {
   "cell_type": "code",
   "execution_count": 74,
   "metadata": {},
   "outputs": [
    {
     "data": {
      "text/plain": [
       "New York         848\n",
       "Seattle          777\n",
       "Cambridge        694\n",
       "Boston           629\n",
       "San Francisco    564\n",
       "Chicago          471\n",
       "San Diego        412\n",
       "Washington       340\n",
       "Mountain View    277\n",
       "Atlanta          269\n",
       "Name: location, dtype: int64"
      ]
     },
     "execution_count": 74,
     "metadata": {},
     "output_type": "execute_result"
    }
   ],
   "source": [
    "top_10_locs = df_all['location'].value_counts()[:10]\n",
    "top_10_locs"
   ]
  },
  {
   "cell_type": "code",
   "execution_count": 81,
   "metadata": {},
   "outputs": [
    {
     "data": {
      "text/plain": [
       "New York         14.645941\n",
       "Seattle          13.419689\n",
       "Cambridge        11.986183\n",
       "Boston           10.863558\n",
       "San Francisco     9.740933\n",
       "Chicago           8.134715\n",
       "San Diego         7.115717\n",
       "Washington        5.872193\n",
       "Mountain View     4.784111\n",
       "Atlanta           4.645941\n",
       "Name: location, dtype: float64"
      ]
     },
     "execution_count": 81,
     "metadata": {},
     "output_type": "execute_result"
    }
   ],
   "source": [
    "a = top_10_locs / (max(top_10_locs) - min(top_10_locs))\n",
    "a = a*10\n",
    "a"
   ]
  },
  {
   "cell_type": "code",
   "execution_count": 82,
   "metadata": {},
   "outputs": [
    {
     "data": {
      "image/png": "[encoded data removed]",
      "text/plain": [
       "<Figure size 576x576 with 1 Axes>"
      ]
     },
     "metadata": {},
     "output_type": "display_data"
    }
   ],
   "source": [
    "fig = plt.figure(figsize=(8, 8))\n",
    "m = Basemap(projection='lcc', resolution='c',\n",
    "            width=8E6, height=5E6, \n",
    "            lat_0=40, lon_0=-100,)\n",
    "#m.etopo(scale=0.5, alpha=0.5)\n",
    "m.drawcoastlines(color='lightblue', linewidth=1.5)\n",
    "\n",
    "# Map (long, lat) to (x, y) for plotting\n",
    "for name, loc in df_all_location_lat_lon.items():\n",
    "    t_loc = m(loc[1], loc[0])\n",
    "    \n",
    "    text_loc_ll = df_all_location_text_lat_lon[name]\n",
    "    text_loc = m(text_loc_ll[1], text_loc_ll[0])\n",
    "    plt.plot(t_loc[0], t_loc[1], marker='o', alpha=0.45, markersize=a[name], color='black')\n",
    "    plt.text(text_loc[0], text_loc[1], name, fontsize=12);"
   ]
  },
  {
   "cell_type": "code",
   "execution_count": null,
   "metadata": {},
   "outputs": [],
   "source": []
  },
  {
   "cell_type": "code",
   "execution_count": null,
   "metadata": {},
   "outputs": [],
   "source": []
  }
 ],
 "metadata": {
  "kernelspec": {
   "display_name": "Python 3",
   "language": "python",
   "name": "python3"
  },
  "language_info": {
   "codemirror_mode": {
    "name": "ipython",
    "version": 3
   },
   "file_extension": ".py",
   "mimetype": "text/x-python",
   "name": "python",
   "nbconvert_exporter": "python",
   "pygments_lexer": "ipython3",
   "version": "3.7.4"
  }
 },
 "nbformat": 4,
 "nbformat_minor": 4
}
